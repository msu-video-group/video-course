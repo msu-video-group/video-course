{
 "cells": [
  {
   "cell_type": "markdown",
   "metadata": {},
   "source": [
    "# 4. Обработка пленоптических фотографий"
   ]
  },
  {
   "cell_type": "markdown",
   "metadata": {},
   "source": [
    "Это 4 задание курса \"Интеллектуальные методы обработки видео\"\n",
    "\n",
    "Репозиторий курса:\n",
    "https://github.com/msu-video-group/video-course\n",
    "\n",
    "Курс в anytask:\n",
    "https://anytask.org/course/465\n",
    "\n",
    "Данное задание состоит двух основных частей. **Оно не является конкурсным**, за каждое подзадание можно получить максимальное качество баллов за приемлемую работу. Интересные мысли и красивая реализация приветствуются."
   ]
  },
  {
   "cell_type": "markdown",
   "metadata": {},
   "source": [
    "## Часть 1. Lytro Light Field Camera (8 баллов)"
   ]
  },
  {
   "cell_type": "markdown",
   "metadata": {},
   "source": [
    "![plenoptic_small.jpg](plenoptic_small.jpg)"
   ]
  },
  {
   "cell_type": "markdown",
   "metadata": {},
   "source": [
    "В 2011 году появилась камера Lytro Light Field Camera. Вот краткое описание формата пикселей:\n",
    "* Базовое разрешение 3280x3280\n",
    "* Линзы в массиве упакованы \"как соты\" (поэтому каждый второй ряд на полпикселя сдвинут относительно другого)\n",
    "* Под каждой линзой количество пикселей по высоте и ширине не является целым\n",
    "* Более того, этот массив микролинз немного повёрнут относительно массива пикселей\n",
    "\n",
    "В этой части задания мы попробуем руками получить хоть что-то красивое из сырых изображений, а также научимся сдвигать наблюдателя в плоскости объектива"
   ]
  },
  {
   "cell_type": "markdown",
   "metadata": {},
   "source": [
    "**Для начала откроем изображение**"
   ]
  },
  {
   "cell_type": "code",
   "execution_count": null,
   "metadata": {},
   "outputs": [],
   "source": [
    "import skimage.io\n",
    "import numpy as np\n",
    "import matplotlib.pyplot as plt\n",
    "%matplotlib inline\n",
    "from IPython.display import HTML\n",
    "from IPython.display import Image as ImageDisplay\n",
    "from tqdm import tqdm_notebook \n",
    "import imageio\n",
    "image = skimage.io.imread('bee.png')\n",
    "image = image / image.max()"
   ]
  },
  {
   "cell_type": "code",
   "execution_count": null,
   "metadata": {},
   "outputs": [],
   "source": [
    "image_array = np.array(image)\n",
    "plt.figure(figsize=(16, 16))\n",
    "plt.imshow(image_array, cmap='gray')\n",
    "plt.show()"
   ]
  },
  {
   "cell_type": "markdown",
   "metadata": {},
   "source": [
    "Увеличим его часть:"
   ]
  },
  {
   "cell_type": "code",
   "execution_count": null,
   "metadata": {},
   "outputs": [],
   "source": [
    "image_array = np.array(image)\n",
    "plt.figure(figsize=(16, 16))\n",
    "plt.imshow(image_array[1000:1100, 2090:2190], cmap='gray')\n",
    "plt.show()"
   ]
  },
  {
   "cell_type": "markdown",
   "metadata": {},
   "source": [
    "Чётко прослеживается структура массива линз, кроме того, видим, что и внутри линз есть своя структура - некоторые пиксели регулярно темнее/светлее остальных. Дело в том, что изначально каждый фотодиод фотоматрицы принимает только определённый цвет изображения, так как [накрыт цветным фильтром](https://ru.wikipedia.org/wiki/%D0%A4%D0%B8%D0%BB%D1%8C%D1%82%D1%80_%D0%91%D0%B0%D0%B9%D0%B5%D1%80%D0%B0).\n",
    "\n",
    "Преобразуем сырые данные камеры в RGB-изображение. Для этого:\n",
    "* Составим маску красных, синих и зелёных каналов на сыром изображении\n",
    "* Произведём интерполяцию путём усреднения соседних известных значений канала"
   ]
  },
  {
   "cell_type": "markdown",
   "metadata": {},
   "source": [
    "Первый шаг - составление маски. Начиная с левого верхнего угла, цвет хранится так:\n",
    "<table><tr><td bgcolor=\"#0000FF\"></td><td bgcolor=\"#00FF00\"></td></tr><tr><td bgcolor=\"#00FF00\"></td><td bgcolor=\"#FF0000\"></td></tr></table>\n",
    "Напишите функцию, которая по заданной высоте и ширине изображения составит маски каналов (4 матрицы, значение элемента внутри которых равно единице в пикселях, который содержит B, G1, G2 или R компоненту соответственно).\n",
    "Например, для изображения $2x2$ матрица для цветовой компоненты B выглядит так:\n",
    "$$ \\quad\n",
    "\\begin{pmatrix}\n",
    "1 & 0 \\\\\n",
    "0 & 0\n",
    "\\end{pmatrix}\n",
    "\\quad $$\n",
    "\n",
    "Обратите внимание, что G-канал разделён на два для последующего удобства обработки."
   ]
  },
  {
   "cell_type": "code",
   "execution_count": null,
   "metadata": {},
   "outputs": [],
   "source": [
    "# Подзказка: объявите массивы-маски 2x2 и затем используйте np.tile\n",
    "# В Lytro формат цвета такой\n",
    "# B G1\n",
    "# G2 R\n",
    "def get_bayer_pattern_masks(h, w):\n",
    "    '''\n",
    "    Возвращает 4 маски заданной высоты и ширины для сырого изображения формата\n",
    "    B G1\n",
    "    G2 R\n",
    "    :param h: int, height of bayer pattern\n",
    "    :param w: int, width of bayer pattern\n",
    "    :return [numpy.ndarray((h, w)), numpy.ndarray((h, w)), numpy.ndarray((h, w)), numpy.ndarray((h, w))]\n",
    "    маски для B-компоненты, G1-компоненты, G2-компоненты и R-компоненты\n",
    "    '''\n",
    "    # YOUR CODE\n",
    "    return # YOUR CODE"
   ]
  },
  {
   "cell_type": "markdown",
   "metadata": {},
   "source": [
    "Следующий шаг - интерполяция каналов. Действовать будем по [этой статье](https://stanford.edu/class/ee367/reading/Demosaicing_ICASSP04.pdf). Суть её заключается в том, что для каждого из четырёх типов пикселей мы вычисляем веса неизвестных каналов следующим способом:"
   ]
  },
  {
   "cell_type": "markdown",
   "metadata": {},
   "source": [
    "![bayer_interpolation.png](bayer_interpolation.png)"
   ]
  },
  {
   "cell_type": "code",
   "execution_count": null,
   "metadata": {},
   "outputs": [],
   "source": [
    "def high_quality_bayer_interpolation(raw_image):\n",
    "    h = raw_image.shape[0]\n",
    "    w = raw_image.shape[1]\n",
    "    \n",
    "    weigths_0 = (1 / 8) * np.array([\n",
    "        [ 0,  0, 1/2,  0,  0],\n",
    "        [ 0, -1,   0, -1,  0],\n",
    "        [-1,  4,   5,  4, -1],\n",
    "        [ 0, -1,   0, -1,  0],\n",
    "        [ 0,  0, 1/2,  0,  0]\n",
    "    ])\n",
    "\n",
    "    weigths_1 = (1 / 8) * np.array([\n",
    "        [  0,  0,  -1,  0,   0],\n",
    "        [  0, -1,   4, -1,   0],\n",
    "        [1/2,  0,   5,  0, 1/2],\n",
    "        [  0, -1,   4, -1,   0],\n",
    "        [  0,  0,  -1,  0,   0]\n",
    "    ])\n",
    "\n",
    "    weigths_2 = (1 / 8) * np.array([\n",
    "        [   0,  0, -3/2,  0,    0],\n",
    "        [   0,  2,    0,  2,    0],\n",
    "        [-3/2,  0,    6,  0, -3/2],\n",
    "        [   0,  2,    0,  2,    0],\n",
    "        [   0,  0, -3/2,  0,    0]\n",
    "    ])\n",
    "\n",
    "    weigths_3 = (1 / 8) * np.array([\n",
    "        [ 0,  0, -1,  0,  0],\n",
    "        [ 0,  0,  2,  0,  0],\n",
    "        [-1,  2,  4,  2, -1],\n",
    "        [ 0,  0,  2,  0,  0],\n",
    "        [ 0,  0, -1,  0,  0]\n",
    "    ])\n",
    "\n",
    "    image = np.zeros((h, w, 3), dtype=np.float)\n",
    "    mask_r, mask_g1, mask_g2, mask_b = get_bayer_pattern_masks(h, w)\n",
    "    \n",
    "   # YOUR CODE\n",
    "\n",
    "    return np.clip(image, 0, 1)"
   ]
  },
  {
   "cell_type": "code",
   "execution_count": null,
   "metadata": {},
   "outputs": [],
   "source": [
    "image_interpolated = high_quality_bayer_interpolation(image_array)"
   ]
  },
  {
   "cell_type": "code",
   "execution_count": null,
   "metadata": {
    "scrolled": false
   },
   "outputs": [],
   "source": [
    "plt.figure(figsize=(32, 32))\n",
    "plt.imshow(image_interpolated, cmap='gray')\n",
    "plt.show()"
   ]
  },
  {
   "cell_type": "markdown",
   "metadata": {},
   "source": [
    "**Ура!** Теперь осталось его правильно обработать. Давайте реализуем сдвиг по вертикали и горизонтали.\n",
    "\n",
    "В простейшем случае процесс описан в [этой ссылке](http://www.plenoptic.info/pages/sub-aperture.html) (только параграф про получение Sub-apertures!). По сути, нужно выбрать пиксели внутри каждого блока с некоторым сдвигом"
   ]
  },
  {
   "cell_type": "code",
   "execution_count": null,
   "metadata": {},
   "outputs": [],
   "source": [
    "plenoptic_image_config = {\n",
    "    'block_width': 9.927582228653469,\n",
    "    'block_height': 8.607538408172838\n",
    "}"
   ]
  },
  {
   "cell_type": "code",
   "execution_count": null,
   "metadata": {},
   "outputs": [],
   "source": [
    "second_row_shift = 0\n",
    "first_row_shift = 5\n",
    "def baseline_move(plenoptic_raw_image, plenoptic_image_config, position_shift_y, position_shift_x):\n",
    "    raw_image_height = plenoptic_raw_image.shape[0]\n",
    "    raw_image_width = plenoptic_raw_image.shape[1]\n",
    "    block_height = plenoptic_image_config['block_height']\n",
    "    block_width = plenoptic_image_config['block_width']\n",
    "    block_count_h = int(raw_image_height // block_height)\n",
    "    block_count_w = int(raw_image_width // block_width)\n",
    "    result = np.zeros((block_count_h, block_count_w, 3))\n",
    "    \n",
    "    # Учтите, что высота линзы и её ширина не равна целому числу пикселей \n",
    "    # поэтому не пренебрегайте использования магическими константами \n",
    "    # (block_height - высота линзы, block_width - её ширина). \n",
    "    # Также учтите, что каждый второй ряд сдвинут относительно первого.\n",
    "    # Замечание: написать вложенные циклы тут ОК\n",
    "   \n",
    "    return result"
   ]
  },
  {
   "cell_type": "code",
   "execution_count": null,
   "metadata": {},
   "outputs": [],
   "source": [
    "images = []\n",
    "for dx in tqdm_notebook(range(-3, 5, 1)):\n",
    "    for dy in range(-4, 5, 1):\n",
    "        image = baseline_move(image_interpolated, plenoptic_image_config, dy, dx)\n",
    "        images.append(image)"
   ]
  },
  {
   "cell_type": "code",
   "execution_count": null,
   "metadata": {},
   "outputs": [],
   "source": [
    "output_file='baseline_move.gif'\n",
    "import imageio\n",
    "duration = 1\n",
    "imageio.mimsave(output_file, images, duration=duration)"
   ]
  },
  {
   "cell_type": "code",
   "execution_count": null,
   "metadata": {},
   "outputs": [],
   "source": [
    "with open('baseline_move.gif','rb') as f:\n",
    "    display(ImageDisplay(data=f.read(), format='png'))"
   ]
  },
  {
   "cell_type": "markdown",
   "metadata": {},
   "source": [
    "*Что ожидается увидеть: заметное движение заднего фона, однако, яркость изображений будет отличаться, это нормально. Кроме того, возможны небольшие горизонтальные/вертикальные полоски.*.\n",
    "\n",
    "Несоответствие по яркости происходит из-за того, что через массив микролинз свет падает неравномерно на массив фотодиодов, а при дебайеринге мы никак не учитывали этот факт.\n",
    "Попробуем отнормировать изображения по цвету. Для этого воспользуйтесь функцией [match_histograms](https://scikit-image.org/docs/dev/api/skimage.transform.html#skimage.transform.match_histograms)\n"
   ]
  },
  {
   "cell_type": "code",
   "execution_count": null,
   "metadata": {},
   "outputs": [],
   "source": [
    "images = []\n",
    "\n",
    "# YOUR CODE\n",
    "\n",
    "for dx in tqdm_notebook(range(-3, 4, 1)):\n",
    "    for dy in range(-3, 4, 1):\n",
    "        image = baseline_move(image_interpolated, plenoptic_image_config, dy, dx)\n",
    "        # YOUR CODE\n",
    "        images.append(image)"
   ]
  },
  {
   "cell_type": "code",
   "execution_count": null,
   "metadata": {},
   "outputs": [],
   "source": [
    "output_file='baseline_move_with_histograms.gif'\n",
    "duration = 1\n",
    "imageio.mimsave(output_file, images, duration=duration)"
   ]
  },
  {
   "cell_type": "code",
   "execution_count": null,
   "metadata": {},
   "outputs": [],
   "source": [
    "with open('baseline_move_with_histograms.gif','rb') as f:\n",
    "    display(ImageDisplay(data=f.read(), format='gif'))"
   ]
  },
  {
   "cell_type": "markdown",
   "metadata": {},
   "source": [
    "## Часть 2. Немного 3D (7 баллов)"
   ]
  },
  {
   "cell_type": "markdown",
   "metadata": {},
   "source": [
    "В этом подзадании требуется получить [анаглифное](https://ru.wikipedia.org/wiki/%D0%90%D0%BD%D0%B0%D0%B3%D0%BB%D0%B8%D1%84) изображение на основе полученных данных. План приблизительно следующий:\n",
    "* Создайте два изображения с максимальным параллаксом (горизонтальным расстоянием между виртуальными камерами)\n",
    "* Наложите их друг на друга, используя цветовые фильтры\n",
    "* Получите ещё больше баллов за небольшой анализ (пробуйте уменьшать/увеличивать параллакс, создаёте gif-картинку). Что будет, если изначально накладывать изображения с небольшим сдвигом?"
   ]
  },
  {
   "cell_type": "code",
   "execution_count": null,
   "metadata": {},
   "outputs": [],
   "source": []
  },
  {
   "cell_type": "markdown",
   "metadata": {},
   "source": [
    "## The end?"
   ]
  },
  {
   "cell_type": "markdown",
   "metadata": {},
   "source": [
    "![dear_princess_celestia.jpg](dear_princess_celestia.jpg)"
   ]
  },
  {
   "cell_type": "markdown",
   "metadata": {},
   "source": [
    "*Пожалуйста, напишите ниже в свободной форме вашу боль от задания: что понравилось, что не понравилось*"
   ]
  }
 ],
 "metadata": {
  "kernelspec": {
   "display_name": "Python 3",
   "language": "python",
   "name": "python3"
  },
  "language_info": {
   "codemirror_mode": {
    "name": "ipython",
    "version": 3
   },
   "file_extension": ".py",
   "mimetype": "text/x-python",
   "name": "python",
   "nbconvert_exporter": "python",
   "pygments_lexer": "ipython3",
   "version": "3.7.4"
  }
 },
 "nbformat": 4,
 "nbformat_minor": 2
}
